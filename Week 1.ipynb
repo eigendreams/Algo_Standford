{
 "cells": [
  {
   "cell_type": "code",
   "execution_count": 36,
   "metadata": {
    "collapsed": false
   },
   "outputs": [],
   "source": [
    "import math\n",
    "\n",
    "def karatsuba(a, b):\n",
    "    \n",
    "    if len(a) > 2 | len(b) > 2:\n",
    "        \n",
    "        left_half_a  = a[:len(a) / 2]\n",
    "        right_half_a = a[len(a) / 2:]\n",
    "        exp_carry_a  = len(a) / 2;\n",
    "        \n",
    "        left_half_b  = b[:len(a) / 2]\n",
    "        right_half_b = b[len(a) / 2:]\n",
    "        exp_carry_b  = len(b) / 2;\n",
    "        \n",
    "        t1 = karatsuba(left_half_a, left_half_b);\n",
    "        t2 = karatsuba(left_half_a + right_half_a, left_half_b + right_half_b);\n",
    "        t3 = karatsuba(right_half_a, right_half_b);\n",
    "        \n",
    "        # This begs the entire problem...\n",
    "        # a C implementation is asking too much, since we cannot return\n",
    "        # objects. It could be done in Cpp using std, and overriding the +\n",
    "        # operator to operate on list of the kind\n",
    "        #\n",
    "        # ( { num, exp_10 } + { num, exp_10 } ) * ( { num, exp_10 } + { num, exp_10 } ) \n",
    "        #\n",
    "        # etc... where num can be of arbitrary length\n",
    "        # or even encoding the length in the vector, so each vector already\n",
    "        # HAS its correct bit position\n",
    "        return t1 * math.pow(10, 2*exp_carry_a) + (t2 - t1 - t3) * math.pow(10, exp_carry_a) + t3\n",
    "    else:\n",
    "        return int(a) * int(b)"
   ]
  },
  {
   "cell_type": "code",
   "execution_count": 37,
   "metadata": {
    "collapsed": false
   },
   "outputs": [
    {
     "data": {
      "text/plain": [
       "8539734222673567065463550869546574495034888535765114961879601127067743044893204848617875072216249073013374895871952806582723184"
      ]
     },
     "execution_count": 37,
     "metadata": {},
     "output_type": "execute_result"
    }
   ],
   "source": [
    "karatsuba(\"3141592653589793238462643383279502884197169399375105820974944592\",\"2718281828459045235360287471352662497757247093699959574966967627\")"
   ]
  },
  {
   "cell_type": "code",
   "execution_count": 23,
   "metadata": {
    "collapsed": false
   },
   "outputs": [
    {
     "data": {
      "text/plain": [
       "8539734222673567065463550869546574495034888535765114961879601127067743044893204848617875072216249073013374895871952806582723184"
      ]
     },
     "execution_count": 23,
     "metadata": {},
     "output_type": "execute_result"
    }
   ],
   "source": [
    "a = 3141592653589793238462643383279502884197169399375105820974944592\n",
    "b = 2718281828459045235360287471352662497757247093699959574966967627\n",
    "a*b"
   ]
  }
 ],
 "metadata": {
  "anaconda-cloud": {},
  "kernelspec": {
   "display_name": "Python [default]",
   "language": "python",
   "name": "python3"
  },
  "language_info": {
   "codemirror_mode": {
    "name": "ipython",
    "version": 3
   },
   "file_extension": ".py",
   "mimetype": "text/x-python",
   "name": "python",
   "nbconvert_exporter": "python",
   "pygments_lexer": "ipython3",
   "version": "3.5.2"
  }
 },
 "nbformat": 4,
 "nbformat_minor": 1
}
